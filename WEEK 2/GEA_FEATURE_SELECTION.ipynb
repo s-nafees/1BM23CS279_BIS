{
  "nbformat": 4,
  "nbformat_minor": 0,
  "metadata": {
    "colab": {
      "provenance": []
    },
    "kernelspec": {
      "name": "python3",
      "display_name": "Python 3"
    },
    "language_info": {
      "name": "python"
    }
  },
  "cells": [
    {
      "cell_type": "code",
      "execution_count": 2,
      "metadata": {
        "colab": {
          "base_uri": "https://localhost:8080/"
        },
        "id": "aeITNPtz_YdF",
        "outputId": "83b7d390-f253-44e1-9a81-2af9665f6e33"
      },
      "outputs": [
        {
          "output_type": "stream",
          "name": "stdout",
          "text": [
            "Collecting deap\n",
            "  Downloading deap-1.4.3-cp312-cp312-manylinux_2_5_x86_64.manylinux1_x86_64.manylinux_2_17_x86_64.manylinux2014_x86_64.whl.metadata (13 kB)\n",
            "Requirement already satisfied: numpy in /usr/local/lib/python3.12/dist-packages (from deap) (2.0.2)\n",
            "Downloading deap-1.4.3-cp312-cp312-manylinux_2_5_x86_64.manylinux1_x86_64.manylinux_2_17_x86_64.manylinux2014_x86_64.whl (135 kB)\n",
            "\u001b[2K   \u001b[90m━━━━━━━━━━━━━━━━━━━━━━━━━━━━━━━━━━━━━━━━\u001b[0m \u001b[32m136.0/136.0 kB\u001b[0m \u001b[31m2.8 MB/s\u001b[0m eta \u001b[36m0:00:00\u001b[0m\n",
            "\u001b[?25hInstalling collected packages: deap\n",
            "Successfully installed deap-1.4.3\n",
            "Starting feature selection using Gene Expression–style GA...\n",
            "\n",
            "Gen 1: Best Accuracy = 0.9456\n",
            "Gen 2: Best Accuracy = 0.9473\n",
            "Gen 3: Best Accuracy = 0.9508\n",
            "Gen 4: Best Accuracy = 0.9561\n",
            "Gen 5: Best Accuracy = 0.9561\n",
            "Gen 6: Best Accuracy = 0.9561\n",
            "Gen 7: Best Accuracy = 0.9561\n",
            "Gen 8: Best Accuracy = 0.9561\n",
            "Gen 9: Best Accuracy = 0.9561\n",
            "Gen 10: Best Accuracy = 0.9561\n",
            "Gen 11: Best Accuracy = 0.9561\n",
            "Gen 12: Best Accuracy = 0.9561\n",
            "Gen 13: Best Accuracy = 0.9561\n",
            "Gen 14: Best Accuracy = 0.9561\n",
            "Gen 15: Best Accuracy = 0.9561\n",
            "Gen 16: Best Accuracy = 0.9561\n",
            "Gen 17: Best Accuracy = 0.9561\n",
            "Gen 18: Best Accuracy = 0.9561\n",
            "Gen 19: Best Accuracy = 0.9561\n",
            "Gen 20: Best Accuracy = 0.9561\n",
            "\n",
            "Best feature subset found: [np.str_('mean texture'), np.str_('mean concave points'), np.str_('radius error'), np.str_('smoothness error'), np.str_('compactness error'), np.str_('symmetry error'), np.str_('fractal dimension error'), np.str_('worst texture'), np.str_('worst area'), np.str_('worst concavity'), np.str_('worst fractal dimension')]\n",
            "Best cross-validation accuracy: 0.9560937742586555\n"
          ]
        }
      ],
      "source": [
        "# Install DEAP (only needed once per session)\n",
        "!pip install deap\n",
        "\n",
        "import random\n",
        "import numpy as np\n",
        "from sklearn.datasets import load_breast_cancer\n",
        "from sklearn.model_selection import cross_val_score\n",
        "from sklearn.tree import DecisionTreeClassifier\n",
        "from deap import base, creator, tools, algorithms\n",
        "\n",
        "# Load dataset\n",
        "data = load_breast_cancer()\n",
        "X, y = data.data, data.target\n",
        "n_features = X.shape[1]\n",
        "\n",
        "# --- Genetic Algorithm Setup ---\n",
        "creator.create(\"FitnessMax\", base.Fitness, weights=(1.0,))\n",
        "creator.create(\"Individual\", list, fitness=creator.FitnessMax)\n",
        "\n",
        "toolbox = base.Toolbox()\n",
        "toolbox.register(\"attr_bool\", random.randint, 0, 1)\n",
        "toolbox.register(\"individual\", tools.initRepeat, creator.Individual, toolbox.attr_bool, n=n_features)\n",
        "toolbox.register(\"population\", tools.initRepeat, list, toolbox.individual)\n",
        "\n",
        "def eval_features(individual):\n",
        "    mask = np.array(individual, dtype=bool)\n",
        "    if not mask.any():  # avoid empty feature set\n",
        "        return 0,\n",
        "    X_selected = X[:, mask]\n",
        "    clf = DecisionTreeClassifier(random_state=42)\n",
        "    scores = cross_val_score(clf, X_selected, y, cv=5)\n",
        "    return scores.mean(),\n",
        "\n",
        "toolbox.register(\"evaluate\", eval_features)\n",
        "toolbox.register(\"mate\", tools.cxTwoPoint)\n",
        "toolbox.register(\"mutate\", tools.mutFlipBit, indpb=0.1)\n",
        "toolbox.register(\"select\", tools.selTournament, tournsize=3)\n",
        "\n",
        "# --- Run GA ---\n",
        "random.seed(42)\n",
        "pop = toolbox.population(n=30)\n",
        "NGEN, CXPB, MUTPB = 20, 0.7, 0.2\n",
        "\n",
        "print(\"Starting feature selection using Gene Expression–style GA...\\n\")\n",
        "for gen in range(NGEN):\n",
        "    offspring = algorithms.varAnd(pop, toolbox, CXPB, MUTPB)\n",
        "    fits = list(map(toolbox.evaluate, offspring))\n",
        "    for fit, ind in zip(fits, offspring):\n",
        "        ind.fitness.values = fit\n",
        "    pop = toolbox.select(offspring, k=len(pop))\n",
        "    top_ind = tools.selBest(pop, 1)[0]\n",
        "    print(f\"Gen {gen+1}: Best Accuracy = {top_ind.fitness.values[0]:.4f}\")\n",
        "\n",
        "best_ind = tools.selBest(pop, 1)[0]\n",
        "selected_features = [data.feature_names[i] for i, bit in enumerate(best_ind) if bit == 1]\n",
        "\n",
        "print(\"\\nBest feature subset found:\", selected_features)\n",
        "print(\"Best cross-validation accuracy:\", eval_features(best_ind)[0])\n"
      ]
    }
  ]
}